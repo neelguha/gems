{
 "cells": [
  {
   "cell_type": "markdown",
   "metadata": {},
   "source": [
    "# GEMS (Convex) Demo\n",
    "\n",
    "A brief demonstration of GEMS for convex models, applied to MNIST (5 nodes) "
   ]
  },
  {
   "cell_type": "code",
   "execution_count": 1,
   "metadata": {},
   "outputs": [
    {
     "name": "stderr",
     "output_type": "stream",
     "text": [
      "Using TensorFlow backend.\n"
     ]
    }
   ],
   "source": [
    "# Import relevant libraries \n",
    "import os\n",
    "\n",
    "from utils.data_utils import *\n",
    "from utils.model_utils import *\n",
    "from utils.logit_ellipsoid import *\n",
    "\n",
    "%matplotlib notebook\n",
    "%load_ext autoreload\n",
    "%autoreload 2"
   ]
  },
  {
   "cell_type": "code",
   "execution_count": 2,
   "metadata": {},
   "outputs": [],
   "source": [
    "# Set experiment configurations\n",
    "exp = {\n",
    "    \"dataset\": 'mnist',                   # Specify dataset\n",
    "    \"num_nodes\": 5,                       # Specify number of nodes\n",
    "    \"model\": \"logit\",                     # Specify model type \n",
    "    \"local_epochs\": 40,                   # Specify number of local training epochs\n",
    "    \"optimizer\": \"adam\",                  # Specify optimizer \n",
    "    \"loss\": 'categorical_crossentropy',   # Specify loss function\n",
    "    'final_epsilon': 0.70,                # Specify epsilon (accuracy) for final layer \n",
    "    'max_radius': 4000.0,                 # Specify maximum radius to use for model \n",
    "    'num_samples': 500,                   # Specify number of models to sample from epsilloid surface\n",
    "    'fisher_count': 200,                  # Specify number of samples to use for fisher information matrix calculation\n",
    "    'ellipse': True,                      # Specify good-enough model space geometry\n",
    "    'ellipse_type': 'fisher',             # Specify radius expansion strategy \n",
    "    'holdout_trials': 5,                  # Number of trials to evaluate results over \n",
    "    'holdout_sizes': [100, 200, 300, 400, 500, 600, 700, 800, 900, 1000] # number of hold out samples to try tuning on\n",
    "}"
   ]
  },
  {
   "cell_type": "code",
   "execution_count": 3,
   "metadata": {},
   "outputs": [],
   "source": [
    "# Load data \n",
    "data_dir = os.path.join(\"../datasets\", \"%s_%d\" % (exp['dataset'], exp['num_nodes']))\n",
    "Xtr, ytr, Xval, yval, Xts, yts = load_data(data_dir)\n",
    "Xts_flat, yts_flat = flatten(Xts, yts)\n",
    "Xtr_flat, ytr_flat = flatten(Xtr, ytr)"
   ]
  },
  {
   "cell_type": "code",
   "execution_count": 4,
   "metadata": {},
   "outputs": [
    {
     "name": "stdout",
     "output_type": "stream",
     "text": [
      "Training local model on node-0...\n",
      "Training local model on node-1...\n",
      "Training local model on node-2...\n",
      "Training local model on node-3...\n",
      "Training local model on node-4...\n"
     ]
    }
   ],
   "source": [
    "# Train local models \n",
    "# Run local\n",
    "all_results = {}\n",
    "models = []\n",
    "for t in range(exp['num_nodes']):\n",
    "    print(\"Training local model on node-%d...\" % t)\n",
    "    model, results = train_local_model(Xtr, ytr, Xts, yts, t, exp)\n",
    "    models.append(model)\n",
    "\n",
    "    all_results[t] = results"
   ]
  },
  {
   "cell_type": "code",
   "execution_count": 6,
   "metadata": {},
   "outputs": [
    {
     "name": "stdout",
     "output_type": "stream",
     "text": [
      "Computing fisher information matrix for node-0\n",
      "Computing fisher information matrix for node-1\n",
      "Computing fisher information matrix for node-2\n",
      "Computing fisher information matrix for node-3\n",
      "Computing fisher information matrix for node-4\n",
      "Computing good-enough model space for node-0\n",
      "Node-0. Radius: 43.609619\n",
      "Computing good-enough model space for node-1\n",
      "Node-1. Radius: 20.660400\n",
      "Computing good-enough model space for node-2\n",
      "Node-2. Radius: 35.430908\n",
      "Computing good-enough model space for node-3\n",
      "Node-3. Radius: 42.449951\n",
      "Computing good-enough model space for node-4\n",
      "Node-4. Radius: 25.482178\n",
      "GEMS accuracy: 0.449400\n",
      "Holdout Size: 100.\n",
      "\tRaw: 0.364640.\n",
      "\tGems (Tuned): 0.735240.\n",
      "\tAverage (Tuned): 0.749160.\n",
      "\t Node-0 Loc Model (Tuned): 0.211000\n",
      "\t Node-1 Loc Model (Tuned): 0.205280\n",
      "\t Node-2 Loc Model (Tuned): 0.181880\n",
      "\t Node-3 Loc Model (Tuned): 0.197400\n",
      "\t Node-4 Loc Model (Tuned): 0.194680\n",
      "Holdout Size: 200.\n",
      "\tRaw: 0.580000.\n",
      "\tGems (Tuned): 0.817400.\n",
      "\tAverage (Tuned): 0.819000.\n",
      "\t Node-0 Loc Model (Tuned): 0.211000\n",
      "\t Node-1 Loc Model (Tuned): 0.205000\n",
      "\t Node-2 Loc Model (Tuned): 0.181680\n",
      "\t Node-3 Loc Model (Tuned): 0.197320\n",
      "\t Node-4 Loc Model (Tuned): 0.194040\n",
      "Holdout Size: 300.\n",
      "\tRaw: 0.708400.\n",
      "\tGems (Tuned): 0.844960.\n",
      "\tAverage (Tuned): 0.838840.\n",
      "\t Node-0 Loc Model (Tuned): 0.211440\n",
      "\t Node-1 Loc Model (Tuned): 0.204960\n",
      "\t Node-2 Loc Model (Tuned): 0.181680\n",
      "\t Node-3 Loc Model (Tuned): 0.201320\n",
      "\t Node-4 Loc Model (Tuned): 0.193960\n",
      "Holdout Size: 400.\n",
      "\tRaw: 0.747240.\n",
      "\tGems (Tuned): 0.857880.\n",
      "\tAverage (Tuned): 0.858840.\n",
      "\t Node-0 Loc Model (Tuned): 0.227600\n",
      "\t Node-1 Loc Model (Tuned): 0.205160\n",
      "\t Node-2 Loc Model (Tuned): 0.181880\n",
      "\t Node-3 Loc Model (Tuned): 0.225720\n",
      "\t Node-4 Loc Model (Tuned): 0.233080\n",
      "Holdout Size: 500.\n",
      "\tRaw: 0.780160.\n",
      "\tGems (Tuned): 0.862280.\n",
      "\tAverage (Tuned): 0.859720.\n",
      "\t Node-0 Loc Model (Tuned): 0.278120\n",
      "\t Node-1 Loc Model (Tuned): 0.242520\n",
      "\t Node-2 Loc Model (Tuned): 0.205680\n",
      "\t Node-3 Loc Model (Tuned): 0.331760\n",
      "\t Node-4 Loc Model (Tuned): 0.296120\n",
      "Holdout Size: 600.\n",
      "\tRaw: 0.790120.\n",
      "\tGems (Tuned): 0.864640.\n",
      "\tAverage (Tuned): 0.861720.\n",
      "\t Node-0 Loc Model (Tuned): 0.384520\n",
      "\t Node-1 Loc Model (Tuned): 0.337000\n",
      "\t Node-2 Loc Model (Tuned): 0.262360\n",
      "\t Node-3 Loc Model (Tuned): 0.434440\n",
      "\t Node-4 Loc Model (Tuned): 0.363320\n",
      "Holdout Size: 700.\n",
      "\tRaw: 0.811000.\n",
      "\tGems (Tuned): 0.873760.\n",
      "\tAverage (Tuned): 0.870360.\n",
      "\t Node-0 Loc Model (Tuned): 0.503840\n",
      "\t Node-1 Loc Model (Tuned): 0.449000\n",
      "\t Node-2 Loc Model (Tuned): 0.361960\n",
      "\t Node-3 Loc Model (Tuned): 0.558080\n",
      "\t Node-4 Loc Model (Tuned): 0.505280\n",
      "Holdout Size: 800.\n",
      "\tRaw: 0.817000.\n",
      "\tGems (Tuned): 0.872120.\n",
      "\tAverage (Tuned): 0.871800.\n",
      "\t Node-0 Loc Model (Tuned): 0.622680\n",
      "\t Node-1 Loc Model (Tuned): 0.522680\n",
      "\t Node-2 Loc Model (Tuned): 0.475640\n",
      "\t Node-3 Loc Model (Tuned): 0.642120\n",
      "\t Node-4 Loc Model (Tuned): 0.582800\n",
      "Holdout Size: 900.\n",
      "\tRaw: 0.827360.\n",
      "\tGems (Tuned): 0.873520.\n",
      "\tAverage (Tuned): 0.874880.\n",
      "\t Node-0 Loc Model (Tuned): 0.710400\n",
      "\t Node-1 Loc Model (Tuned): 0.630000\n",
      "\t Node-2 Loc Model (Tuned): 0.574040\n",
      "\t Node-3 Loc Model (Tuned): 0.723920\n",
      "\t Node-4 Loc Model (Tuned): 0.663720\n",
      "Holdout Size: 1000.\n",
      "\tRaw: 0.837880.\n",
      "\tGems (Tuned): 0.882040.\n",
      "\tAverage (Tuned): 0.879920.\n",
      "\t Node-0 Loc Model (Tuned): 0.744200\n",
      "\t Node-1 Loc Model (Tuned): 0.697600\n",
      "\t Node-2 Loc Model (Tuned): 0.634480\n",
      "\t Node-3 Loc Model (Tuned): 0.760640\n",
      "\t Node-4 Loc Model (Tuned): 0.699920\n"
     ]
    }
   ],
   "source": [
    "# Compute the GEMS model \n",
    "gems_model, results = run_logit_ellipsoid(exp, Xtr, ytr, Xval, yval, Xts, yts, models)"
   ]
  },
  {
   "cell_type": "code",
   "execution_count": null,
   "metadata": {},
   "outputs": [],
   "source": []
  }
 ],
 "metadata": {
  "kernelspec": {
   "display_name": "Python 3",
   "language": "python",
   "name": "python3"
  },
  "language_info": {
   "codemirror_mode": {
    "name": "ipython",
    "version": 3
   },
   "file_extension": ".py",
   "mimetype": "text/x-python",
   "name": "python",
   "nbconvert_exporter": "python",
   "pygments_lexer": "ipython3",
   "version": "3.6.4"
  }
 },
 "nbformat": 4,
 "nbformat_minor": 2
}
